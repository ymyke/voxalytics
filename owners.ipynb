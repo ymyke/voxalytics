{
 "metadata": {
  "language_info": {
   "codemirror_mode": {
    "name": "ipython",
    "version": 3
   },
   "file_extension": ".py",
   "mimetype": "text/x-python",
   "name": "python",
   "nbconvert_exporter": "python",
   "pygments_lexer": "ipython3",
   "version": "3.7.9"
  },
  "orig_nbformat": 2,
  "kernelspec": {
   "name": "python3",
   "display_name": "Python 3.7.9 64-bit ('venv': venv)"
  },
  "metadata": {
   "interpreter": {
    "hash": "08ded45b9fd720bb38e2572c84500749b5a84872637d8d1015c69a1bfaf89273"
   }
  },
  "interpreter": {
   "hash": "d440dfa2281b0de0f9454daeb1180ce20775ed236f61b30459c3c00c5099f552"
  }
 },
 "nbformat": 4,
 "nbformat_minor": 2,
 "cells": [
  {
   "cell_type": "markdown",
   "source": [
    "# Owners & collaborators"
   ],
   "metadata": {}
  },
  {
   "cell_type": "code",
   "execution_count": 1,
   "source": [
    "from prep_n_load import *\r\n",
    "plt.rcParams[\"figure.figsize\"] = (18,5)"
   ],
   "outputs": [
    {
     "output_type": "stream",
     "name": "stdout",
     "text": [
      "Mon Sep  6 07:41:18 2021  UTC\n",
      "5645 parcels loaded.\n"
     ]
    }
   ],
   "metadata": {}
  },
  {
   "cell_type": "markdown",
   "source": [
    "## Number of owners, min/max ownerships"
   ],
   "metadata": {}
  },
  {
   "cell_type": "code",
   "execution_count": 2,
   "source": [
    "from collections import Counter\r\n",
    "parcels_per_owner = Counter(parcels.owner)\r\n",
    "counts = list(parcels_per_owner.values())\r\n",
    "print(\"{} owners total\".format(len(parcels_per_owner)))\r\n",
    "print(\"Ownerhips: {} min, {} max\".format(sorted(counts)[0], sorted(counts)[-1]))"
   ],
   "outputs": [
    {
     "output_type": "stream",
     "name": "stdout",
     "text": [
      "1487 owners total\n",
      "Ownerhips: 1 min, 290 max\n"
     ]
    }
   ],
   "metadata": {}
  },
  {
   "cell_type": "markdown",
   "source": [
    "## Owner leaderboard"
   ],
   "metadata": {}
  },
  {
   "cell_type": "code",
   "execution_count": 3,
   "source": [
    "show_leaderboard(parcels_per_owner, \"parcels\")"
   ],
   "outputs": [
    {
     "output_type": "display_data",
     "data": {
      "text/html": [
       " 1. <a href=\"https://www.cryptovoxels.com/avatar/0x2d891ed45c4c3eab978513df4b92a35cf131d2e2\">0x2d891ed45c4c3eab978513df4b92a35cf131d2e2</a> with 290 parcels"
      ],
      "text/plain": [
       "<IPython.core.display.HTML object>"
      ]
     },
     "metadata": {}
    },
    {
     "output_type": "display_data",
     "data": {
      "text/html": [
       " 2. <a href=\"https://www.cryptovoxels.com/avatar/0xe7079eec020ddfc3f1c0abe1d946c55e6ed30eb3\">0xe7079eec020ddfc3f1c0abe1d946c55e6ed30eb3</a> with 169 parcels"
      ],
      "text/plain": [
       "<IPython.core.display.HTML object>"
      ]
     },
     "metadata": {}
    },
    {
     "output_type": "display_data",
     "data": {
      "text/html": [
       " 3. <a href=\"https://www.cryptovoxels.com/avatar/0x32ab4262df2c10ccc199f5f8e7332ed507ef3ea5\">0x32ab4262df2c10ccc199f5f8e7332ed507ef3ea5</a> with 145 parcels"
      ],
      "text/plain": [
       "<IPython.core.display.HTML object>"
      ]
     },
     "metadata": {}
    },
    {
     "output_type": "display_data",
     "data": {
      "text/html": [
       " 4. <a href=\"https://www.cryptovoxels.com/avatar/0x175b49d39c059d764b4d268e66822eb420f46db9\">0x175b49d39c059d764b4d268e66822eb420f46db9</a> with 120 parcels"
      ],
      "text/plain": [
       "<IPython.core.display.HTML object>"
      ]
     },
     "metadata": {}
    },
    {
     "output_type": "display_data",
     "data": {
      "text/html": [
       " 5. <a href=\"https://www.cryptovoxels.com/avatar/0xfb60bbae6896fc36b1db29e1a0dacaf21aa96fa5\">0xfb60bbae6896fc36b1db29e1a0dacaf21aa96fa5</a> with  92 parcels"
      ],
      "text/plain": [
       "<IPython.core.display.HTML object>"
      ]
     },
     "metadata": {}
    },
    {
     "output_type": "display_data",
     "data": {
      "text/html": [
       " 6. <a href=\"https://www.cryptovoxels.com/avatar/0x7c00c9f0e7aed440c0c730a9bd9ee4f49de20d5c\">0x7c00c9f0e7aed440c0c730a9bd9ee4f49de20d5c</a> with  77 parcels"
      ],
      "text/plain": [
       "<IPython.core.display.HTML object>"
      ]
     },
     "metadata": {}
    },
    {
     "output_type": "display_data",
     "data": {
      "text/html": [
       " 7. <a href=\"https://www.cryptovoxels.com/avatar/0xbc2a21a50d88e0a48b75c0a5516ae51bfa45ce6e\">0xbc2a21a50d88e0a48b75c0a5516ae51bfa45ce6e</a> with  49 parcels"
      ],
      "text/plain": [
       "<IPython.core.display.HTML object>"
      ]
     },
     "metadata": {}
    },
    {
     "output_type": "display_data",
     "data": {
      "text/html": [
       " 8. <a href=\"https://www.cryptovoxels.com/avatar/0x8bb37fb0f0462bb3fc8995cf17721f8e4a399629\">0x8bb37fb0f0462bb3fc8995cf17721f8e4a399629</a> with  46 parcels"
      ],
      "text/plain": [
       "<IPython.core.display.HTML object>"
      ]
     },
     "metadata": {}
    },
    {
     "output_type": "display_data",
     "data": {
      "text/html": [
       " 9. <a href=\"https://www.cryptovoxels.com/avatar/0x99710eeada6dac635407c9c4a741be1096e46558\">0x99710eeada6dac635407c9c4a741be1096e46558</a> with  45 parcels"
      ],
      "text/plain": [
       "<IPython.core.display.HTML object>"
      ]
     },
     "metadata": {}
    },
    {
     "output_type": "display_data",
     "data": {
      "text/html": [
       "10. <a href=\"https://www.cryptovoxels.com/avatar/0xbd4eb0295468c80725017f74113f5aebbd6e8d12\">0xbd4eb0295468c80725017f74113f5aebbd6e8d12</a> with  44 parcels"
      ],
      "text/plain": [
       "<IPython.core.display.HTML object>"
      ]
     },
     "metadata": {}
    }
   ],
   "metadata": {}
  },
  {
   "cell_type": "markdown",
   "source": [
    "* Top spot is bnolan, who mints new parcels.\n",
    "* Next up is The Vault by $WHALE (0xe7079eec020ddfc3f1c0abe1d946c55e6ed30eb3)."
   ],
   "metadata": {}
  },
  {
   "cell_type": "markdown",
   "source": [
    "## Histogram of ownerships"
   ],
   "metadata": {}
  },
  {
   "cell_type": "code",
   "execution_count": 4,
   "source": [
    "ax = sns.histplot(data=counts)\r\n",
    "_ = ax.set(xlabel=\"Number of owned parcels\")"
   ],
   "outputs": [
    {
     "output_type": "display_data",
     "data": {
      "image/png": "[encoded data removed]",
      "text/plain": [
       "<Figure size 1296x360 with 1 Axes>"
      ]
     },
     "metadata": {}
    }
   ],
   "metadata": {}
  },
  {
   "cell_type": "markdown",
   "source": [
    "* Obviously most owners own 1 parcel. Many 2 or 3. Curve flattens quickly afterwards."
   ],
   "metadata": {}
  },
  {
   "cell_type": "markdown",
   "source": [
    "### Zooming in: histogram & cumulative distribution\n",
    "\n",
    "The following histogram starts with 2 parcels. The red line shows the cumulative distribution."
   ],
   "metadata": {}
  },
  {
   "cell_type": "code",
   "execution_count": 5,
   "source": [
    "fig, ax = plt.subplots()\r\n",
    "sns.histplot(data=counts, ax=ax, bins=max(counts) + 1)\r\n",
    "ax.set(xlabel=\"Number of owned parcels\")\r\n",
    "ax.set(xlim=(2, 50))\r\n",
    "ax.grid(False, axis=\"y\")\r\n",
    "ax2 = ax.twinx()\r\n",
    "sns.ecdfplot(data=counts, ax=ax2, color=\"red\")\r\n",
    "ax2.set(xlim=(2, 50))\r\n",
    "ax2.set(ylabel=\"Cum. Probability\")\r\n",
    "_ = plt.locator_params(axis=\"x\", integer=True, tight=True)"
   ],
   "outputs": [
    {
     "output_type": "display_data",
     "data": {
      "image/png": "[encoded data removed]",
      "text/plain": [
       "<Figure size 1296x360 with 2 Axes>"
      ]
     },
     "metadata": {}
    }
   ],
   "metadata": {}
  },
  {
   "cell_type": "markdown",
   "source": [
    "* Owning > ~5 parcels brings you to the top decile of owners."
   ],
   "metadata": {}
  },
  {
   "cell_type": "markdown",
   "source": [
    "## Distribution of ownership\n",
    "\n",
    "How well distributed is parcel ownership? I.e., is a large number of parcels in the hands of only a few?"
   ],
   "metadata": {}
  },
  {
   "cell_type": "code",
   "execution_count": 6,
   "source": [
    "# What ratio of parcels does each owner own:\r\n",
    "parcel_ratios = [c/parcels.shape[0] for o, c in sorted(parcels_per_owner.items(), key=lambda x: x[1], reverse=True)]\r\n",
    "# Cumulated:\r\n",
    "cumulated_parcel_ratios = [ sum(parcel_ratios[:i+1]) for i, r in enumerate(parcel_ratios)]\r\n",
    "# Cumulated owner ratios:\r\n",
    "cumulated_owner_ratios = [x/len(parcel_ratios) for x in range(len(parcel_ratios))]\r\n",
    "# Plot:\r\n",
    "ax = sns.lineplot(x=cumulated_owner_ratios, y=cumulated_parcel_ratios)\r\n",
    "ax.set(xlabel=\"Ratio of owners\")\r\n",
    "ax.set(ylabel=\"Ratio of parcels\")\r\n",
    "_ = ax.set(xlim=(0, 0.2))"
   ],
   "outputs": [
    {
     "output_type": "display_data",
     "data": {
      "image/png": "[encoded data removed]",
      "text/plain": [
       "<Figure size 1296x360 with 1 Axes>"
      ]
     },
     "metadata": {}
    }
   ],
   "metadata": {}
  },
  {
   "cell_type": "markdown",
   "source": [
    "* 10% of the owners own 60% of all parcels.\n",
    "* ~6% of the owners own half of all the parcels."
   ],
   "metadata": {}
  },
  {
   "cell_type": "markdown",
   "source": [
    "## Collaborators"
   ],
   "metadata": {}
  },
  {
   "cell_type": "code",
   "execution_count": 7,
   "source": [
    "collaborators = Counter([cleanc for p in parcels.contributors for c in (p or []) for cleanc in c.strip().split(\" \") if cleanc != \"\"])\r\n",
    "collaborator_counts = list(collaborators.values())\r\n",
    "print(\"{} collaborators total\".format(len(collaborators)))\r\n",
    "print(\"Collaborations: {} min, {} max\".format(sorted(collaborator_counts)[0], sorted(collaborator_counts)[-1]))\r\n"
   ],
   "outputs": [
    {
     "output_type": "stream",
     "name": "stdout",
     "text": [
      "1805 collaborators total\n",
      "Collaborations: 1 min, 76 max\n"
     ]
    }
   ],
   "metadata": {}
  },
  {
   "cell_type": "markdown",
   "source": [
    "## Collaborators leaderboard"
   ],
   "metadata": {}
  },
  {
   "cell_type": "code",
   "execution_count": 8,
   "source": [
    "show_leaderboard(collaborators, \"collaborations\")"
   ],
   "outputs": [
    {
     "output_type": "display_data",
     "data": {
      "text/html": [
       " 1. <a href=\"https://www.cryptovoxels.com/avatar/0x06e09B64929d5f9279E2f94cb763d0D76E99f0d8\">0x06e09B64929d5f9279E2f94cb763d0D76E99f0d8</a> with  76 collaborations"
      ],
      "text/plain": [
       "<IPython.core.display.HTML object>"
      ]
     },
     "metadata": {}
    },
    {
     "output_type": "display_data",
     "data": {
      "text/html": [
       " 2. <a href=\"https://www.cryptovoxels.com/avatar/0x40A628D16bE2Ba6956F60402b17F52E8bfE32497\">0x40A628D16bE2Ba6956F60402b17F52E8bfE32497</a> with  73 collaborations"
      ],
      "text/plain": [
       "<IPython.core.display.HTML object>"
      ]
     },
     "metadata": {}
    },
    {
     "output_type": "display_data",
     "data": {
      "text/html": [
       " 3. <a href=\"https://www.cryptovoxels.com/avatar/0x568f888e808621bde2f8f6511bfcf952732ae70c\">0x568f888e808621bde2f8f6511bfcf952732ae70c</a> with  59 collaborations"
      ],
      "text/plain": [
       "<IPython.core.display.HTML object>"
      ]
     },
     "metadata": {}
    },
    {
     "output_type": "display_data",
     "data": {
      "text/html": [
       " 4. <a href=\"https://www.cryptovoxels.com/avatar/0x678974e75e7dd27d3fef88267f49ac8b06d7800f\">0x678974e75e7dd27d3fef88267f49ac8b06d7800f</a> with  59 collaborations"
      ],
      "text/plain": [
       "<IPython.core.display.HTML object>"
      ]
     },
     "metadata": {}
    },
    {
     "output_type": "display_data",
     "data": {
      "text/html": [
       " 5. <a href=\"https://www.cryptovoxels.com/avatar/0xdc9b3a05db94b951a81c8a23bf2cdb16009b716c\">0xdc9b3a05db94b951a81c8a23bf2cdb16009b716c</a> with  53 collaborations"
      ],
      "text/plain": [
       "<IPython.core.display.HTML object>"
      ]
     },
     "metadata": {}
    },
    {
     "output_type": "display_data",
     "data": {
      "text/html": [
       " 6. <a href=\"https://www.cryptovoxels.com/avatar/0xDC9B3A05DB94B951A81c8A23bF2CDB16009b716c\">0xDC9B3A05DB94B951A81c8A23bF2CDB16009b716c</a> with  47 collaborations"
      ],
      "text/plain": [
       "<IPython.core.display.HTML object>"
      ]
     },
     "metadata": {}
    },
    {
     "output_type": "display_data",
     "data": {
      "text/html": [
       " 7. <a href=\"https://www.cryptovoxels.com/avatar/0x37F2a2A8F8608A0FdeA7FD99c36f2a9F44728024\">0x37F2a2A8F8608A0FdeA7FD99c36f2a9F44728024</a> with  47 collaborations"
      ],
      "text/plain": [
       "<IPython.core.display.HTML object>"
      ]
     },
     "metadata": {}
    },
    {
     "output_type": "display_data",
     "data": {
      "text/html": [
       " 8. <a href=\"https://www.cryptovoxels.com/avatar/0x81e5cd19323ce7f6b36c9511fbc98d477a188b13\">0x81e5cd19323ce7f6b36c9511fbc98d477a188b13</a> with  46 collaborations"
      ],
      "text/plain": [
       "<IPython.core.display.HTML object>"
      ]
     },
     "metadata": {}
    },
    {
     "output_type": "display_data",
     "data": {
      "text/html": [
       " 9. <a href=\"https://www.cryptovoxels.com/avatar/0xc9f5654e2f1bd05255e2fa048de7d10acdb8c382\">0xc9f5654e2f1bd05255e2fa048de7d10acdb8c382</a> with  43 collaborations"
      ],
      "text/plain": [
       "<IPython.core.display.HTML object>"
      ]
     },
     "metadata": {}
    },
    {
     "output_type": "display_data",
     "data": {
      "text/html": [
       "10. <a href=\"https://www.cryptovoxels.com/avatar/0xe8bf704e1e27067c664177a851166021e96c1071\">0xe8bf704e1e27067c664177a851166021e96c1071</a> with  42 collaborations"
      ],
      "text/plain": [
       "<IPython.core.display.HTML object>"
      ]
     },
     "metadata": {}
    }
   ],
   "metadata": {}
  },
  {
   "cell_type": "markdown",
   "source": [
    "## Owner-collaborators\n",
    "\n",
    "How many owners are also collaborators?"
   ],
   "metadata": {}
  },
  {
   "cell_type": "code",
   "execution_count": 9,
   "source": [
    "len(set(parcels_per_owner.keys()) & set(collaborators.keys()))"
   ],
   "outputs": [
    {
     "output_type": "execute_result",
     "data": {
      "text/plain": [
       "268"
      ]
     },
     "metadata": {},
     "execution_count": 9
    }
   ],
   "metadata": {}
  },
  {
   "cell_type": "markdown",
   "source": [
    "## Parcel whales per island\n",
    "\n",
    "I.e., who owns most of which island?"
   ],
   "metadata": {}
  },
  {
   "cell_type": "code",
   "execution_count": 10,
   "source": [
    "parcelwhales = (\r\n",
    "    parcels.groupby([\"island\", \"owner\"])[\"id\"]\r\n",
    "    .agg(\"count\")\r\n",
    "    .groupby(\"island\", group_keys=False)\r\n",
    "    .nlargest(1)\r\n",
    "    .to_frame()\r\n",
    "    .reset_index(\"owner\")\r\n",
    "    .rename(columns={\"id\": \"whaleparcels\", \"owner\": \"whale\"})\r\n",
    "    .merge(island_sizes[\"parcels\"], left_on=\"island\", right_on=\"island\")\r\n",
    ")\r\n",
    "parcelwhales[\"whalecoverage\"] = parcelwhales.whaleparcels / parcelwhales.parcels * 100\r\n",
    "parcelwhales.drop([\"Test Island\", \"Little Ceres\"]).sort_values(\r\n",
    "    \"whalecoverage\", ascending=False\r\n",
    ")"
   ],
   "outputs": [
    {
     "output_type": "execute_result",
     "data": {
      "text/html": [
       "<div>\n",
       "<style scoped>\n",
       "    .dataframe tbody tr th:only-of-type {\n",
       "        vertical-align: middle;\n",
       "    }\n",
       "\n",
       "    .dataframe tbody tr th {\n",
       "        vertical-align: top;\n",
       "    }\n",
       "\n",
       "    .dataframe thead th {\n",
       "        text-align: right;\n",
       "    }\n",
       "</style>\n",
       "<table border=\"1\" class=\"dataframe\">\n",
       "  <thead>\n",
       "    <tr style=\"text-align: right;\">\n",
       "      <th></th>\n",
       "      <th>whale</th>\n",
       "      <th>whaleparcels</th>\n",
       "      <th>parcels</th>\n",
       "      <th>whalecoverage</th>\n",
       "    </tr>\n",
       "    <tr>\n",
       "      <th>island</th>\n",
       "      <th></th>\n",
       "      <th></th>\n",
       "      <th></th>\n",
       "      <th></th>\n",
       "    </tr>\n",
       "  </thead>\n",
       "  <tbody>\n",
       "    <tr>\n",
       "      <th>Electron</th>\n",
       "      <td>0x9f0574a5f28779a1a682cfe4bbd090ee058d07aa</td>\n",
       "      <td>14</td>\n",
       "      <td>33</td>\n",
       "      <td>42.424242</td>\n",
       "    </tr>\n",
       "    <tr>\n",
       "      <th>Miami</th>\n",
       "      <td>0x2d891ed45c4c3eab978513df4b92a35cf131d2e2</td>\n",
       "      <td>53</td>\n",
       "      <td>194</td>\n",
       "      <td>27.319588</td>\n",
       "    </tr>\n",
       "    <tr>\n",
       "      <th>Far Far Away</th>\n",
       "      <td>0x8115afd8dffce5579381ad27524b6feeae917bef</td>\n",
       "      <td>13</td>\n",
       "      <td>62</td>\n",
       "      <td>20.967742</td>\n",
       "    </tr>\n",
       "    <tr>\n",
       "      <th>Neutron</th>\n",
       "      <td>0x7c00c9f0e7aed440c0c730a9bd9ee4f49de20d5c</td>\n",
       "      <td>24</td>\n",
       "      <td>120</td>\n",
       "      <td>20.000000</td>\n",
       "    </tr>\n",
       "    <tr>\n",
       "      <th>Trinity</th>\n",
       "      <td>0xa752caf7592062ad2a162cbe437a5e7955f595ca</td>\n",
       "      <td>12</td>\n",
       "      <td>71</td>\n",
       "      <td>16.901408</td>\n",
       "    </tr>\n",
       "    <tr>\n",
       "      <th>Euro</th>\n",
       "      <td>0x6d54ce2652a9a544b97352ff711a0598169b989f</td>\n",
       "      <td>10</td>\n",
       "      <td>60</td>\n",
       "      <td>16.666667</td>\n",
       "    </tr>\n",
       "    <tr>\n",
       "      <th>Proton</th>\n",
       "      <td>0x7c00c9f0e7aed440c0c730a9bd9ee4f49de20d5c</td>\n",
       "      <td>19</td>\n",
       "      <td>120</td>\n",
       "      <td>15.833333</td>\n",
       "    </tr>\n",
       "    <tr>\n",
       "      <th>Tokyo</th>\n",
       "      <td>0x7c00c9f0e7aed440c0c730a9bd9ee4f49de20d5c</td>\n",
       "      <td>34</td>\n",
       "      <td>230</td>\n",
       "      <td>14.782609</td>\n",
       "    </tr>\n",
       "    <tr>\n",
       "      <th>Satoshi</th>\n",
       "      <td>0x2d891ed45c4c3eab978513df4b92a35cf131d2e2</td>\n",
       "      <td>52</td>\n",
       "      <td>361</td>\n",
       "      <td>14.404432</td>\n",
       "    </tr>\n",
       "    <tr>\n",
       "      <th>The Bronx</th>\n",
       "      <td>0xfad0ea578c6c63fe495dc0ef9cf73fc2c69e1f47</td>\n",
       "      <td>10</td>\n",
       "      <td>86</td>\n",
       "      <td>11.627907</td>\n",
       "    </tr>\n",
       "    <tr>\n",
       "      <th>Poneke</th>\n",
       "      <td>0x7374fc9e5aa8baee2a1e36ca751b85500d4603db</td>\n",
       "      <td>9</td>\n",
       "      <td>83</td>\n",
       "      <td>10.843373</td>\n",
       "    </tr>\n",
       "    <tr>\n",
       "      <th>Proxima</th>\n",
       "      <td>0x32ab4262df2c10ccc199f5f8e7332ed507ef3ea5</td>\n",
       "      <td>9</td>\n",
       "      <td>90</td>\n",
       "      <td>10.000000</td>\n",
       "    </tr>\n",
       "    <tr>\n",
       "      <th>San Francisco</th>\n",
       "      <td>0x2d05becee1dda9c7e96aaca1dd737daea537b500</td>\n",
       "      <td>7</td>\n",
       "      <td>99</td>\n",
       "      <td>7.070707</td>\n",
       "    </tr>\n",
       "    <tr>\n",
       "      <th>Vibes</th>\n",
       "      <td>0xa8e162b7d258160f973449c2532234c361586dd4</td>\n",
       "      <td>15</td>\n",
       "      <td>215</td>\n",
       "      <td>6.976744</td>\n",
       "    </tr>\n",
       "    <tr>\n",
       "      <th>Milan</th>\n",
       "      <td>0x7374fc9e5aa8baee2a1e36ca751b85500d4603db</td>\n",
       "      <td>16</td>\n",
       "      <td>266</td>\n",
       "      <td>6.015038</td>\n",
       "    </tr>\n",
       "    <tr>\n",
       "      <th>Berlin</th>\n",
       "      <td>0x31e99699bccde902afc7c4b6b23bb322b8459d22</td>\n",
       "      <td>11</td>\n",
       "      <td>186</td>\n",
       "      <td>5.913978</td>\n",
       "    </tr>\n",
       "    <tr>\n",
       "      <th>Origin City</th>\n",
       "      <td>0xe7079eec020ddfc3f1c0abe1d946c55e6ed30eb3</td>\n",
       "      <td>169</td>\n",
       "      <td>3026</td>\n",
       "      <td>5.584931</td>\n",
       "    </tr>\n",
       "    <tr>\n",
       "      <th>Helios</th>\n",
       "      <td>0xab48edd90bdf367d326d827758bacd2460c59d17</td>\n",
       "      <td>7</td>\n",
       "      <td>135</td>\n",
       "      <td>5.185185</td>\n",
       "    </tr>\n",
       "    <tr>\n",
       "      <th>Ceres</th>\n",
       "      <td>0x13816f65ba8195768e6825eb774fd3c6a05a0ac8</td>\n",
       "      <td>4</td>\n",
       "      <td>92</td>\n",
       "      <td>4.347826</td>\n",
       "    </tr>\n",
       "  </tbody>\n",
       "</table>\n",
       "</div>"
      ],
      "text/plain": [
       "                                                    whale  whaleparcels  \\\n",
       "island                                                                    \n",
       "Electron       0x9f0574a5f28779a1a682cfe4bbd090ee058d07aa            14   \n",
       "Miami          0x2d891ed45c4c3eab978513df4b92a35cf131d2e2            53   \n",
       "Far Far Away   0x8115afd8dffce5579381ad27524b6feeae917bef            13   \n",
       "Neutron        0x7c00c9f0e7aed440c0c730a9bd9ee4f49de20d5c            24   \n",
       "Trinity        0xa752caf7592062ad2a162cbe437a5e7955f595ca            12   \n",
       "Euro           0x6d54ce2652a9a544b97352ff711a0598169b989f            10   \n",
       "Proton         0x7c00c9f0e7aed440c0c730a9bd9ee4f49de20d5c            19   \n",
       "Tokyo          0x7c00c9f0e7aed440c0c730a9bd9ee4f49de20d5c            34   \n",
       "Satoshi        0x2d891ed45c4c3eab978513df4b92a35cf131d2e2            52   \n",
       "The Bronx      0xfad0ea578c6c63fe495dc0ef9cf73fc2c69e1f47            10   \n",
       "Poneke         0x7374fc9e5aa8baee2a1e36ca751b85500d4603db             9   \n",
       "Proxima        0x32ab4262df2c10ccc199f5f8e7332ed507ef3ea5             9   \n",
       "San Francisco  0x2d05becee1dda9c7e96aaca1dd737daea537b500             7   \n",
       "Vibes          0xa8e162b7d258160f973449c2532234c361586dd4            15   \n",
       "Milan          0x7374fc9e5aa8baee2a1e36ca751b85500d4603db            16   \n",
       "Berlin         0x31e99699bccde902afc7c4b6b23bb322b8459d22            11   \n",
       "Origin City    0xe7079eec020ddfc3f1c0abe1d946c55e6ed30eb3           169   \n",
       "Helios         0xab48edd90bdf367d326d827758bacd2460c59d17             7   \n",
       "Ceres          0x13816f65ba8195768e6825eb774fd3c6a05a0ac8             4   \n",
       "\n",
       "               parcels  whalecoverage  \n",
       "island                                 \n",
       "Electron            33      42.424242  \n",
       "Miami              194      27.319588  \n",
       "Far Far Away        62      20.967742  \n",
       "Neutron            120      20.000000  \n",
       "Trinity             71      16.901408  \n",
       "Euro                60      16.666667  \n",
       "Proton             120      15.833333  \n",
       "Tokyo              230      14.782609  \n",
       "Satoshi            361      14.404432  \n",
       "The Bronx           86      11.627907  \n",
       "Poneke              83      10.843373  \n",
       "Proxima             90      10.000000  \n",
       "San Francisco       99       7.070707  \n",
       "Vibes              215       6.976744  \n",
       "Milan              266       6.015038  \n",
       "Berlin             186       5.913978  \n",
       "Origin City       3026       5.584931  \n",
       "Helios             135       5.185185  \n",
       "Ceres               92       4.347826  "
      ]
     },
     "metadata": {},
     "execution_count": 10
    }
   ],
   "metadata": {}
  },
  {
   "cell_type": "markdown",
   "source": [
    "* Satoshi and Miami are younger islands, so it makes sense that bnolan has most coverage there."
   ],
   "metadata": {}
  }
 ]
}