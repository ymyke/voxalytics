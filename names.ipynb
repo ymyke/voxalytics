{
 "metadata": {
  "language_info": {
   "codemirror_mode": {
    "name": "ipython",
    "version": 3
   },
   "file_extension": ".py",
   "mimetype": "text/x-python",
   "name": "python",
   "nbconvert_exporter": "python",
   "pygments_lexer": "ipython3",
   "version": "3.7.9"
  },
  "orig_nbformat": 2,
  "kernelspec": {
   "name": "python379jvsc74a57bd008ded45b9fd720bb38e2572c84500749b5a84872637d8d1015c69a1bfaf89273",
   "display_name": "Python 3.7.9 64-bit ('venv': venv)",
   "language": "python"
  },
  "metadata": {
   "interpreter": {
    "hash": "08ded45b9fd720bb38e2572c84500749b5a84872637d8d1015c69a1bfaf89273"
   }
  }
 },
 "nbformat": 4,
 "nbformat_minor": 2,
 "cells": [
  {
   "source": [
    "# Names"
   ],
   "cell_type": "markdown",
   "metadata": {}
  },
  {
   "cell_type": "code",
   "execution_count": 1,
   "metadata": {},
   "outputs": [
    {
     "output_type": "stream",
     "name": "stdout",
     "text": [
      "Sat Jun 12 13:31:47 2021  UTC\n5069 parcels loaded.\n"
     ]
    }
   ],
   "source": [
    "from prep_n_load import *\n",
    "from nlp_helpers import tokenize_and_count"
   ]
  },
  {
   "source": [
    "## Ratio of parcels without a name"
   ],
   "cell_type": "markdown",
   "metadata": {}
  },
  {
   "cell_type": "code",
   "execution_count": 2,
   "metadata": {},
   "outputs": [
    {
     "output_type": "display_data",
     "data": {
      "text/plain": "<Figure size 432x288 with 1 Axes>",
      "image/svg+xml": "<?xml version=\"1.0\" encoding=\"utf-8\" standalone=\"no\"?>\r\n<!DOCTYPE svg PUBLIC \"-//W3C//DTD SVG 1.1//EN\"\r\n  \"http://www.w3.org/Graphics/SVG/1.1/DTD/svg11.dtd\">\r\n<svg height=\"231.84pt\" version=\"1.1\" viewBox=\"0 0 231.84 231.84\" width=\"231.84pt\" xmlns=\"http://www.w3.org/2000/svg\" xmlns:xlink=\"http://www.w3.org/1999/xlink\">\r\n <metadata>\r\n  <rdf:RDF xmlns:cc=\"http://creativecommons.org/ns#\" xmlns:dc=\"http://purl.org/dc/elements/1.1/\" xmlns:rdf=\"http://www.w3.org/1999/02/22-rdf-syntax-ns#\">\r\n   <cc:Work>\r\n    <dc:type rdf:resource=\"http://purl.org/dc/dcmitype/StillImage\"/>\r\n    <dc:date>2021-06-12T15:31:53.162396</dc:date>\r\n    <dc:format>image/svg+xml</dc:format>\r\n    <dc:creator>\r\n     <cc:Agent>\r\n      <dc:title>Matplotlib v3.4.2, https://matplotlib.org/</dc:title>\r\n     </cc:Agent>\r\n    </dc:creator>\r\n   </cc:Work>\r\n  </rdf:RDF>\r\n </metadata>\r\n <defs>\r\n  <style type=\"text/css\">*{stroke-linecap:butt;stroke-linejoin:round;}</style>\r\n </defs>\r\n <g id=\"figure_1\">\r\n  <g id=\"patch_1\">\r\n   <path d=\"M 0 231.84 \r\nL 231.84 231.84 \r\nL 231.84 0 \r\nL 0 0 \r\nz\r\n\" style=\"fill:#ffffff;\"/>\r\n  </g>\r\n  <g id=\"axes_1\">\r\n   <g id=\"matplotlib.axis_1\"/>\r\n   <g id=\"matplotlib.axis_2\"/>\r\n   <g id=\"patch_2\">\r\n    <path d=\"M 202.896 115.92 \r\nC 202.896 96.85164 196.625264 78.302354 185.055112 63.145377 \r\nC 173.484961 47.9884 157.245313 37.048931 138.851647 32.021465 \r\nC 120.457981 26.993999 100.911713 28.152248 83.240508 35.316803 \r\nC 65.569302 42.481358 50.735241 55.262155 41.036082 71.679483 \r\nL 115.92 115.92 \r\nL 202.896 115.92 \r\nz\r\n\" style=\"fill:#1f77b4;stroke:#ffffff;stroke-linejoin:miter;\"/>\r\n   </g>\r\n   <g id=\"patch_3\">\r\n    <path d=\"M 41.036082 71.679483 \r\nC 34.231717 83.196922 30.175338 96.1304 29.183429 109.470823 \r\nC 28.191521 122.811246 30.290569 136.202402 35.316802 148.599489 \r\nC 40.343034 160.996575 48.162243 172.068568 58.164359 180.951611 \r\nC 68.166474 189.834654 80.084423 196.291555 92.988345 199.818533 \r\nC 105.892267 203.345511 119.437605 203.84839 132.567526 201.287936 \r\nC 145.697448 198.727481 158.061362 193.172061 168.694613 185.05512 \r\nC 179.327864 176.938178 187.946527 166.476452 193.878156 154.486183 \r\nC 199.809786 142.495914 202.895997 129.297265 202.896 115.920016 \r\nL 115.92 115.92 \r\nL 41.036082 71.679483 \r\nz\r\n\" style=\"fill:#ff7f0e;stroke:#ffffff;stroke-linejoin:miter;\"/>\r\n   </g>\r\n   <g id=\"text_1\">\r\n    <!-- no-name -->\r\n    <g style=\"fill:#262626;\" transform=\"translate(141.144812 26.216768)scale(0.1 -0.1)\">\r\n     <defs>\r\n      <path d=\"M 422 0 \r\nL 422 3319 \r\nL 928 3319 \r\nL 928 2847 \r\nQ 1294 3394 1984 3394 \r\nQ 2284 3394 2536 3286 \r\nQ 2788 3178 2913 3003 \r\nQ 3038 2828 3088 2588 \r\nQ 3119 2431 3119 2041 \r\nL 3119 0 \r\nL 2556 0 \r\nL 2556 2019 \r\nQ 2556 2363 2490 2533 \r\nQ 2425 2703 2258 2804 \r\nQ 2091 2906 1866 2906 \r\nQ 1506 2906 1245 2678 \r\nQ 984 2450 984 1813 \r\nL 984 0 \r\nL 422 0 \r\nz\r\n\" id=\"ArialMT-6e\" transform=\"scale(0.015625)\"/>\r\n      <path d=\"M 213 1659 \r\nQ 213 2581 725 3025 \r\nQ 1153 3394 1769 3394 \r\nQ 2453 3394 2887 2945 \r\nQ 3322 2497 3322 1706 \r\nQ 3322 1066 3130 698 \r\nQ 2938 331 2570 128 \r\nQ 2203 -75 1769 -75 \r\nQ 1072 -75 642 372 \r\nQ 213 819 213 1659 \r\nz\r\nM 791 1659 \r\nQ 791 1022 1069 705 \r\nQ 1347 388 1769 388 \r\nQ 2188 388 2466 706 \r\nQ 2744 1025 2744 1678 \r\nQ 2744 2294 2464 2611 \r\nQ 2184 2928 1769 2928 \r\nQ 1347 2928 1069 2612 \r\nQ 791 2297 791 1659 \r\nz\r\n\" id=\"ArialMT-6f\" transform=\"scale(0.015625)\"/>\r\n      <path d=\"M 203 1375 \r\nL 203 1941 \r\nL 1931 1941 \r\nL 1931 1375 \r\nL 203 1375 \r\nz\r\n\" id=\"ArialMT-2d\" transform=\"scale(0.015625)\"/>\r\n      <path d=\"M 2588 409 \r\nQ 2275 144 1986 34 \r\nQ 1697 -75 1366 -75 \r\nQ 819 -75 525 192 \r\nQ 231 459 231 875 \r\nQ 231 1119 342 1320 \r\nQ 453 1522 633 1644 \r\nQ 813 1766 1038 1828 \r\nQ 1203 1872 1538 1913 \r\nQ 2219 1994 2541 2106 \r\nQ 2544 2222 2544 2253 \r\nQ 2544 2597 2384 2738 \r\nQ 2169 2928 1744 2928 \r\nQ 1347 2928 1158 2789 \r\nQ 969 2650 878 2297 \r\nL 328 2372 \r\nQ 403 2725 575 2942 \r\nQ 747 3159 1072 3276 \r\nQ 1397 3394 1825 3394 \r\nQ 2250 3394 2515 3294 \r\nQ 2781 3194 2906 3042 \r\nQ 3031 2891 3081 2659 \r\nQ 3109 2516 3109 2141 \r\nL 3109 1391 \r\nQ 3109 606 3145 398 \r\nQ 3181 191 3288 0 \r\nL 2700 0 \r\nQ 2613 175 2588 409 \r\nz\r\nM 2541 1666 \r\nQ 2234 1541 1622 1453 \r\nQ 1275 1403 1131 1340 \r\nQ 988 1278 909 1158 \r\nQ 831 1038 831 891 \r\nQ 831 666 1001 516 \r\nQ 1172 366 1500 366 \r\nQ 1825 366 2078 508 \r\nQ 2331 650 2450 897 \r\nQ 2541 1088 2541 1459 \r\nL 2541 1666 \r\nz\r\n\" id=\"ArialMT-61\" transform=\"scale(0.015625)\"/>\r\n      <path d=\"M 422 0 \r\nL 422 3319 \r\nL 925 3319 \r\nL 925 2853 \r\nQ 1081 3097 1340 3245 \r\nQ 1600 3394 1931 3394 \r\nQ 2300 3394 2536 3241 \r\nQ 2772 3088 2869 2813 \r\nQ 3263 3394 3894 3394 \r\nQ 4388 3394 4653 3120 \r\nQ 4919 2847 4919 2278 \r\nL 4919 0 \r\nL 4359 0 \r\nL 4359 2091 \r\nQ 4359 2428 4304 2576 \r\nQ 4250 2725 4106 2815 \r\nQ 3963 2906 3769 2906 \r\nQ 3419 2906 3187 2673 \r\nQ 2956 2441 2956 1928 \r\nL 2956 0 \r\nL 2394 0 \r\nL 2394 2156 \r\nQ 2394 2531 2256 2718 \r\nQ 2119 2906 1806 2906 \r\nQ 1569 2906 1367 2781 \r\nQ 1166 2656 1075 2415 \r\nQ 984 2175 984 1722 \r\nL 984 0 \r\nL 422 0 \r\nz\r\n\" id=\"ArialMT-6d\" transform=\"scale(0.015625)\"/>\r\n      <path d=\"M 2694 1069 \r\nL 3275 997 \r\nQ 3138 488 2766 206 \r\nQ 2394 -75 1816 -75 \r\nQ 1088 -75 661 373 \r\nQ 234 822 234 1631 \r\nQ 234 2469 665 2931 \r\nQ 1097 3394 1784 3394 \r\nQ 2450 3394 2872 2941 \r\nQ 3294 2488 3294 1666 \r\nQ 3294 1616 3291 1516 \r\nL 816 1516 \r\nQ 847 969 1125 678 \r\nQ 1403 388 1819 388 \r\nQ 2128 388 2347 550 \r\nQ 2566 713 2694 1069 \r\nz\r\nM 847 1978 \r\nL 2700 1978 \r\nQ 2663 2397 2488 2606 \r\nQ 2219 2931 1791 2931 \r\nQ 1403 2931 1139 2672 \r\nQ 875 2413 847 1978 \r\nz\r\n\" id=\"ArialMT-65\" transform=\"scale(0.015625)\"/>\r\n     </defs>\r\n     <use xlink:href=\"#ArialMT-6e\"/>\r\n     <use x=\"55.615234\" xlink:href=\"#ArialMT-6f\"/>\r\n     <use x=\"111.230469\" xlink:href=\"#ArialMT-2d\"/>\r\n     <use x=\"144.53125\" xlink:href=\"#ArialMT-6e\"/>\r\n     <use x=\"200.146484\" xlink:href=\"#ArialMT-61\"/>\r\n     <use x=\"255.761719\" xlink:href=\"#ArialMT-6d\"/>\r\n     <use x=\"339.0625\" xlink:href=\"#ArialMT-65\"/>\r\n    </g>\r\n   </g>\r\n   <g id=\"text_2\">\r\n    <!-- 42% -->\r\n    <g style=\"fill:#262626;\" transform=\"translate(119.671957 68.166035)scale(0.1 -0.1)\">\r\n     <defs>\r\n      <path d=\"M 2069 0 \r\nL 2069 1097 \r\nL 81 1097 \r\nL 81 1613 \r\nL 2172 4581 \r\nL 2631 4581 \r\nL 2631 1613 \r\nL 3250 1613 \r\nL 3250 1097 \r\nL 2631 1097 \r\nL 2631 0 \r\nL 2069 0 \r\nz\r\nM 2069 1613 \r\nL 2069 3678 \r\nL 634 1613 \r\nL 2069 1613 \r\nz\r\n\" id=\"ArialMT-34\" transform=\"scale(0.015625)\"/>\r\n      <path d=\"M 3222 541 \r\nL 3222 0 \r\nL 194 0 \r\nQ 188 203 259 391 \r\nQ 375 700 629 1000 \r\nQ 884 1300 1366 1694 \r\nQ 2113 2306 2375 2664 \r\nQ 2638 3022 2638 3341 \r\nQ 2638 3675 2398 3904 \r\nQ 2159 4134 1775 4134 \r\nQ 1369 4134 1125 3890 \r\nQ 881 3647 878 3216 \r\nL 300 3275 \r\nQ 359 3922 746 4261 \r\nQ 1134 4600 1788 4600 \r\nQ 2447 4600 2831 4234 \r\nQ 3216 3869 3216 3328 \r\nQ 3216 3053 3103 2787 \r\nQ 2991 2522 2730 2228 \r\nQ 2469 1934 1863 1422 \r\nQ 1356 997 1212 845 \r\nQ 1069 694 975 541 \r\nL 3222 541 \r\nz\r\n\" id=\"ArialMT-32\" transform=\"scale(0.015625)\"/>\r\n      <path d=\"M 372 3481 \r\nQ 372 3972 619 4315 \r\nQ 866 4659 1334 4659 \r\nQ 1766 4659 2048 4351 \r\nQ 2331 4044 2331 3447 \r\nQ 2331 2866 2045 2552 \r\nQ 1759 2238 1341 2238 \r\nQ 925 2238 648 2547 \r\nQ 372 2856 372 3481 \r\nz\r\nM 1350 4272 \r\nQ 1141 4272 1002 4090 \r\nQ 863 3909 863 3425 \r\nQ 863 2984 1003 2804 \r\nQ 1144 2625 1350 2625 \r\nQ 1563 2625 1702 2806 \r\nQ 1841 2988 1841 3469 \r\nQ 1841 3913 1700 4092 \r\nQ 1559 4272 1350 4272 \r\nz\r\nM 1353 -169 \r\nL 3859 4659 \r\nL 4316 4659 \r\nL 1819 -169 \r\nL 1353 -169 \r\nz\r\nM 3334 1075 \r\nQ 3334 1569 3581 1911 \r\nQ 3828 2253 4300 2253 \r\nQ 4731 2253 5014 1945 \r\nQ 5297 1638 5297 1041 \r\nQ 5297 459 5011 145 \r\nQ 4725 -169 4303 -169 \r\nQ 3888 -169 3611 142 \r\nQ 3334 453 3334 1075 \r\nz\r\nM 4316 1866 \r\nQ 4103 1866 3964 1684 \r\nQ 3825 1503 3825 1019 \r\nQ 3825 581 3965 400 \r\nQ 4106 219 4313 219 \r\nQ 4528 219 4667 400 \r\nQ 4806 581 4806 1063 \r\nQ 4806 1506 4665 1686 \r\nQ 4525 1866 4316 1866 \r\nz\r\n\" id=\"ArialMT-25\" transform=\"scale(0.015625)\"/>\r\n     </defs>\r\n     <use xlink:href=\"#ArialMT-34\"/>\r\n     <use x=\"55.615234\" xlink:href=\"#ArialMT-32\"/>\r\n     <use x=\"111.230469\" xlink:href=\"#ArialMT-25\"/>\r\n    </g>\r\n   </g>\r\n   <g id=\"text_3\">\r\n    <!-- named -->\r\n    <g style=\"fill:#262626;\" transform=\"translate(60.121742 210.793542)scale(0.1 -0.1)\">\r\n     <defs>\r\n      <path d=\"M 2575 0 \r\nL 2575 419 \r\nQ 2259 -75 1647 -75 \r\nQ 1250 -75 917 144 \r\nQ 584 363 401 755 \r\nQ 219 1147 219 1656 \r\nQ 219 2153 384 2558 \r\nQ 550 2963 881 3178 \r\nQ 1213 3394 1622 3394 \r\nQ 1922 3394 2156 3267 \r\nQ 2391 3141 2538 2938 \r\nL 2538 4581 \r\nL 3097 4581 \r\nL 3097 0 \r\nL 2575 0 \r\nz\r\nM 797 1656 \r\nQ 797 1019 1065 703 \r\nQ 1334 388 1700 388 \r\nQ 2069 388 2326 689 \r\nQ 2584 991 2584 1609 \r\nQ 2584 2291 2321 2609 \r\nQ 2059 2928 1675 2928 \r\nQ 1300 2928 1048 2622 \r\nQ 797 2316 797 1656 \r\nz\r\n\" id=\"ArialMT-64\" transform=\"scale(0.015625)\"/>\r\n     </defs>\r\n     <use xlink:href=\"#ArialMT-6e\"/>\r\n     <use x=\"55.615234\" xlink:href=\"#ArialMT-61\"/>\r\n     <use x=\"111.230469\" xlink:href=\"#ArialMT-6d\"/>\r\n     <use x=\"194.53125\" xlink:href=\"#ArialMT-65\"/>\r\n     <use x=\"250.146484\" xlink:href=\"#ArialMT-64\"/>\r\n    </g>\r\n   </g>\r\n   <g id=\"text_4\">\r\n    <!-- 58% -->\r\n    <g style=\"fill:#262626;\" transform=\"translate(92.153976 168.844276)scale(0.1 -0.1)\">\r\n     <defs>\r\n      <path d=\"M 266 1200 \r\nL 856 1250 \r\nQ 922 819 1161 601 \r\nQ 1400 384 1738 384 \r\nQ 2144 384 2425 690 \r\nQ 2706 997 2706 1503 \r\nQ 2706 1984 2436 2262 \r\nQ 2166 2541 1728 2541 \r\nQ 1456 2541 1237 2417 \r\nQ 1019 2294 894 2097 \r\nL 366 2166 \r\nL 809 4519 \r\nL 3088 4519 \r\nL 3088 3981 \r\nL 1259 3981 \r\nL 1013 2750 \r\nQ 1425 3038 1878 3038 \r\nQ 2478 3038 2890 2622 \r\nQ 3303 2206 3303 1553 \r\nQ 3303 931 2941 478 \r\nQ 2500 -78 1738 -78 \r\nQ 1113 -78 717 272 \r\nQ 322 622 266 1200 \r\nz\r\n\" id=\"ArialMT-35\" transform=\"scale(0.015625)\"/>\r\n      <path d=\"M 1131 2484 \r\nQ 781 2613 612 2850 \r\nQ 444 3088 444 3419 \r\nQ 444 3919 803 4259 \r\nQ 1163 4600 1759 4600 \r\nQ 2359 4600 2725 4251 \r\nQ 3091 3903 3091 3403 \r\nQ 3091 3084 2923 2848 \r\nQ 2756 2613 2416 2484 \r\nQ 2838 2347 3058 2040 \r\nQ 3278 1734 3278 1309 \r\nQ 3278 722 2862 322 \r\nQ 2447 -78 1769 -78 \r\nQ 1091 -78 675 323 \r\nQ 259 725 259 1325 \r\nQ 259 1772 486 2073 \r\nQ 713 2375 1131 2484 \r\nz\r\nM 1019 3438 \r\nQ 1019 3113 1228 2906 \r\nQ 1438 2700 1772 2700 \r\nQ 2097 2700 2305 2904 \r\nQ 2513 3109 2513 3406 \r\nQ 2513 3716 2298 3927 \r\nQ 2084 4138 1766 4138 \r\nQ 1444 4138 1231 3931 \r\nQ 1019 3725 1019 3438 \r\nz\r\nM 838 1322 \r\nQ 838 1081 952 856 \r\nQ 1066 631 1291 507 \r\nQ 1516 384 1775 384 \r\nQ 2178 384 2440 643 \r\nQ 2703 903 2703 1303 \r\nQ 2703 1709 2433 1975 \r\nQ 2163 2241 1756 2241 \r\nQ 1359 2241 1098 1978 \r\nQ 838 1716 838 1322 \r\nz\r\n\" id=\"ArialMT-38\" transform=\"scale(0.015625)\"/>\r\n     </defs>\r\n     <use xlink:href=\"#ArialMT-35\"/>\r\n     <use x=\"55.615234\" xlink:href=\"#ArialMT-38\"/>\r\n     <use x=\"111.230469\" xlink:href=\"#ArialMT-25\"/>\r\n    </g>\r\n   </g>\r\n  </g>\r\n </g>\r\n</svg>\r\n",
      "image/png": "[encoded data removed]"
     },
     "metadata": {}
    }
   ],
   "source": [
    "nonameratio = parcels[parcels.name.isna()].id.count() / parcels.shape[0]\n",
    "_, ax = plt.subplots()\n",
    "_ = ax.pie([nonameratio, 1 - nonameratio], labels=[\"no-name\", \"named\"], autopct=\"%1.0f%%\")\n"
   ]
  },
  {
   "source": [
    "## Often used words in parcel names"
   ],
   "cell_type": "markdown",
   "metadata": {}
  },
  {
   "cell_type": "code",
   "execution_count": 3,
   "metadata": {},
   "outputs": [
    {
     "output_type": "stream",
     "name": "stdout",
     "text": [
      "  326: gallery\n  136: mvb\n   98: art\n   56: tower\n   48: pranksyland\n   38: club\n   37: house\n   34: hq\n   33: park\n   32: meta_vs\n   32: bronx\n   30: nft\n   30: center\n   29: temple\n   28: pp\n   28: dcl\n   27: plazas\n   23: store\n   23: tbd\n   23: paraverse\n   22: voxel\n   22: zonte\n   21: building\n   21: studio\n   21: museum\n   20: shop\n   20: crypto\n   20: north\n   20: milan\n   19: collection\n   19: tomato\n   19: exhibition\n   18: space\n   18: artwall\n   18: beach\n   18: berlin\n   17: portal\n   17: garden\n   17: tokyo\n   16: meta\n   16: blockchain\n   16: synoptic\n   16: group\n   16: school\n   15: hub\n   15: lounge\n   15: plaza\n   15: neutron\n   14: science\n   14: future\n"
     ]
    }
   ],
   "source": [
    "from collections import Counter\n",
    "all_names = (p[\"name\"] for p in parcels_json if p[\"name\"] and len(p[\"name\"]) > 1)\n",
    "c = Counter()\n",
    "for name in all_names:\n",
    "    c.update(tokenize_and_count(name))\n",
    "print(counter_to_string(c, 50))\n"
   ]
  },
  {
   "source": [
    "* MVB = Metaverse billboards"
   ],
   "cell_type": "markdown",
   "metadata": {}
  },
  {
   "source": [
    "## Top used words per island"
   ],
   "cell_type": "markdown",
   "metadata": {}
  },
  {
   "cell_type": "code",
   "execution_count": 4,
   "metadata": {},
   "outputs": [
    {
     "output_type": "stream",
     "name": "stdout",
     "text": [
      "Berlin\n",
      "   25: gallery\n",
      "   17: berlin\n",
      "   11: m0na\n",
      "    9: magall\n",
      "    8: ebc\n",
      "    8: blockchain\n",
      "    8: global\n",
      "    8: solution\n",
      "    8: group\n",
      "    7: art\n",
      "\n",
      "Ceres\n",
      "    8: ceres\n",
      "    6: gallery\n",
      "    4: wei\n",
      "    4: lounge\n",
      "    3: synoptic\n",
      "    3: mezzanine\n",
      "    2: voxel\n",
      "    2: market\n",
      "    2: galactical\n",
      "    2: vision\n",
      "\n",
      "Electron\n",
      "    4: electron\n",
      "    3: paraverse\n",
      "    2: hall\n",
      "    1: pixls\n",
      "    1: pride\n",
      "    1: gallery\n",
      "    1: mvb\n",
      "    1: rooftop\n",
      "    1: apartment\n",
      "    1: central\n",
      "\n",
      "Euro\n",
      "    6: euro\n",
      "    4: tower\n",
      "    1: 205\n",
      "    1: mvb\n",
      "    1: onchainradio\n",
      "    1: unit\n",
      "    1: w6design\n",
      "    1: bittrees\n",
      "    1: portal\n",
      "    1: 206\n",
      "\n",
      "Far Far Away\n",
      "   12: school\n",
      "   12: data\n",
      "   12: science\n",
      "    6: far\n",
      "    4: away\n",
      "    4: gallery\n",
      "    2: uncle\n",
      "    2: bitcoin\n",
      "    2: lounge\n",
      "    2: bodega\n",
      "\n",
      "Helios\n",
      "   22: gallery\n",
      "    8: art\n",
      "    6: nemausa\n",
      "    6: corner\n",
      "    5: helios\n",
      "    4: helio\n",
      "    4: row\n",
      "    4: studio\n",
      "    3: black\n",
      "    3: blavinci\n",
      "\n",
      "Little Ceres\n",
      "    1: accelerate\n",
      "    1: art\n",
      "    1: ceres\n",
      "\n",
      "Milan\n",
      "   38: gallery\n",
      "   20: milan\n",
      "    8: nft\n",
      "    8: art\n",
      "    8: park\n",
      "    6: shaka\n",
      "    6: north\n",
      "    5: temple\n",
      "    5: beach\n",
      "    4: nifty\n",
      "\n",
      "Neutron\n",
      "   15: neutron\n",
      "   12: tower\n",
      "    8: pixls\n",
      "    8: galleries\n",
      "    7: mvb\n",
      "    7: gallery\n",
      "    4: sultan\n",
      "    4: character\n",
      "    3: departmental\n",
      "    3: store\n",
      "\n",
      "Origin City\n",
      "  149: gallery\n",
      "   98: mvb\n",
      "   48: pranksyland\n",
      "   47: art\n",
      "   32: meta_vs\n",
      "   28: pp\n",
      "   23: dcl\n",
      "   23: hq\n",
      "   23: tbd\n",
      "   22: house\n",
      "\n",
      "Poneke\n",
      "   12: poneke\n",
      "   10: gallery\n",
      "    5: richard\n",
      "    5: dixon\n",
      "    3: grimby\n",
      "    3: coast\n",
      "    3: nft\n",
      "    2: kaiparoro\n",
      "    2: 19\n",
      "    2: artificial\n",
      "\n",
      "Proton\n",
      "   14: gallery\n",
      "   10: proton\n",
      "   10: protonx\n",
      "    9: tomato\n",
      "    6: santa\n",
      "    6: marta\n",
      "    4: seaside\n",
      "    4: villa\n",
      "    3: tower\n",
      "    3: sunset\n",
      "\n",
      "Proxima\n",
      "    9: mvb\n",
      "    8: proxima\n",
      "    6: penthouse\n",
      "    5: gallery\n",
      "    4: synoptic\n",
      "    2: afro\n",
      "    2: hub\n",
      "    2: momind\n",
      "    2: prox\n",
      "    2: beach\n",
      "\n",
      "San Francisco\n",
      "    9: gallery\n",
      "    8: san\n",
      "    8: francisco\n",
      "    6: street\n",
      "    5: art\n",
      "    4: sf\n",
      "    3: lombard\n",
      "    3: uncle\n",
      "    3: bitcoin\n",
      "    2: frisco\n",
      "\n",
      "Test Island\n",
      "    2: test\n",
      "    1: island\n",
      "    1: spawn\n",
      "    1: vox\n",
      "    1: collider\n",
      "\n",
      "The Bronx\n",
      "   32: bronx\n",
      "    8: gallery\n",
      "    4: tower\n",
      "    4: hostel\n",
      "    4: accelerate\n",
      "    4: art\n",
      "    3: north\n",
      "    3: sky\n",
      "    3: ceilings\n",
      "    2: wei\n",
      "\n",
      "Tokyo\n",
      "   18: gallery\n",
      "   14: zonte\n",
      "   13: tokyo\n",
      "    8: valhalla\n",
      "    7: tokyocrypto\n",
      "    6: mvb\n",
      "    6: art\n",
      "    4: voxel\n",
      "    4: paraverse\n",
      "    4: exhibition\n",
      "\n",
      "Trinity\n",
      "   10: sublime\n",
      "   10: exhibition\n",
      "    7: trinity\n",
      "    6: gallery\n",
      "    3: paraverse\n",
      "    3: beach\n",
      "    2: mvb\n",
      "    2: club\n",
      "    2: floor\n",
      "    2: eli\n",
      "\n",
      "Vibes\n",
      "   12: vibes\n",
      "    5: club\n",
      "    5: fork\n",
      "    4: hq\n",
      "    4: gallery\n",
      "    4: davecorp\n",
      "    3: city\n",
      "    3: collectibles\n",
      "    3: яadar\n",
      "    3: cat\n",
      "\n"
     ]
    }
   ],
   "source": [
    "for island_name, row in (\n",
    "    parcels[~parcels.name.isna()]\n",
    "    .groupby(\"island\")[\"name\"]\n",
    "    .apply(\" \".join)\n",
    "    .to_frame()\n",
    "    .iterrows()\n",
    "):\n",
    "    print(island_name)\n",
    "    print(counter_to_string(tokenize_and_count(row[\"name\"])))\n",
    "    print()"
   ]
  },
  {
   "source": [
    "* The people in Bronx sure like their island name."
   ],
   "cell_type": "markdown",
   "metadata": {}
  }
 ]
}